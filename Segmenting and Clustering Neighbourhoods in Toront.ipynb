{
    "cells": [
        {
            "metadata": {},
            "cell_type": "markdown",
            "source": "# Segmenting and Clustering Neighborhoods in Toronto part I\n1.Create Jupiter Notebook & import libraries"
        },
        {
            "metadata": {},
            "cell_type": "code",
            "source": "import numpy as np # library to handle data in a vectorized manner\n\nimport pandas as pd # library for data analsysis\npd.set_option('display.max_columns', None)\npd.set_option('display.max_rows', None)\n\nimport json # library to handle JSON files\n\n#!conda install -c conda-forge geopy --yes # uncomment this line if you haven't completed the Foursquare API lab\nfrom geopy.geocoders import Nominatim # convert an address into latitude and longitude values\n\nimport requests # library to handle requests\nfrom pandas.io.json import json_normalize # tranform JSON file into a pandas dataframe\n\n# Matplotlib and associated plotting modules\nimport matplotlib.cm as cm\nimport matplotlib.colors as colors\n\n# import k-means from clustering stage\nfrom sklearn.cluster import KMeans\n",
            "execution_count": 1,
            "outputs": []
        },
        {
            "metadata": {},
            "cell_type": "code",
            "source": "print('Libraries imported.')",
            "execution_count": 2,
            "outputs": [
                {
                    "output_type": "stream",
                    "text": "Libraries imported.\n",
                    "name": "stdout"
                }
            ]
        },
        {
            "metadata": {},
            "cell_type": "code",
            "source": "!conda install -c conda-forge folium=0.5.0 --yes",
            "execution_count": 3,
            "outputs": [
                {
                    "output_type": "stream",
                    "text": "Solving environment: done\n\n## Package Plan ##\n\n  environment location: /opt/conda/envs/Python36\n\n  added / updated specs: \n    - folium=0.5.0\n\n\nThe following packages will be downloaded:\n\n    package                    |            build\n    ---------------------------|-----------------\n    openssl-1.1.1g             |       h516909a_0         2.1 MB  conda-forge\n    vincent-0.4.4              |             py_1          28 KB  conda-forge\n    folium-0.5.0               |             py_0          45 KB  conda-forge\n    altair-4.1.0               |             py_1         614 KB  conda-forge\n    python_abi-3.6             |          1_cp36m           4 KB  conda-forge\n    branca-0.4.1               |             py_0          26 KB  conda-forge\n    ca-certificates-2020.6.20  |       hecda079_0         145 KB  conda-forge\n    certifi-2020.6.20          |   py36h9f0ad1d_0         151 KB  conda-forge\n    ------------------------------------------------------------\n                                           Total:         3.1 MB\n\nThe following NEW packages will be INSTALLED:\n\n    altair:          4.1.0-py_1        conda-forge\n    branca:          0.4.1-py_0        conda-forge\n    folium:          0.5.0-py_0        conda-forge\n    python_abi:      3.6-1_cp36m       conda-forge\n    vincent:         0.4.4-py_1        conda-forge\n\nThe following packages will be UPDATED:\n\n    ca-certificates: 2020.1.1-0                    --> 2020.6.20-hecda079_0     conda-forge\n    certifi:         2020.6.20-py36_0              --> 2020.6.20-py36h9f0ad1d_0 conda-forge\n    openssl:         1.1.1g-h7b6447c_0             --> 1.1.1g-h516909a_0        conda-forge\n\n\nDownloading and Extracting Packages\nopenssl-1.1.1g       | 2.1 MB    | ##################################### | 100% \nvincent-0.4.4        | 28 KB     | ##################################### | 100% \nfolium-0.5.0         | 45 KB     | ##################################### | 100% \naltair-4.1.0         | 614 KB    | ##################################### | 100% \npython_abi-3.6       | 4 KB      | ##################################### | 100% \nbranca-0.4.1         | 26 KB     | ##################################### | 100% \nca-certificates-2020 | 145 KB    | ##################################### | 100% \ncertifi-2020.6.20    | 151 KB    | ##################################### | 100% \nPreparing transaction: done\nVerifying transaction: done\nExecuting transaction: done\n",
                    "name": "stdout"
                }
            ]
        },
        {
            "metadata": {},
            "cell_type": "code",
            "source": "import folium",
            "execution_count": 4,
            "outputs": []
        },
        {
            "metadata": {},
            "cell_type": "code",
            "source": "from bs4 import BeautifulSoup",
            "execution_count": 5,
            "outputs": []
        },
        {
            "metadata": {},
            "cell_type": "markdown",
            "source": "2.Scrape Wikipedia page"
        },
        {
            "metadata": {},
            "cell_type": "code",
            "source": "data = requests.get(\"https://en.wikipedia.org/wiki/List_of_postal_codes_of_Canada:_M\").text\nsoup = BeautifulSoup(data, 'html.parser')\n",
            "execution_count": 10,
            "outputs": []
        },
        {
            "metadata": {},
            "cell_type": "code",
            "source": "right_table=soup.find('table',class_='wikitable sortable')\n",
            "execution_count": 41,
            "outputs": []
        },
        {
            "metadata": {},
            "cell_type": "code",
            "source": "all_tables = soup.find_all('table')",
            "execution_count": 42,
            "outputs": []
        },
        {
            "metadata": {},
            "cell_type": "markdown",
            "source": "3.Create dataframe"
        },
        {
            "metadata": {},
            "cell_type": "markdown",
            "source": "* The dataframe consist of three columns: Postcode, Borough, Neighborhood"
        },
        {
            "metadata": {},
            "cell_type": "code",
            "source": "postcode = []\nborough = []\nneighborhood = []",
            "execution_count": 43,
            "outputs": []
        },
        {
            "metadata": {},
            "cell_type": "code",
            "source": "for row in right_table.findAll('tr'):\n    \n    cells= row.findAll('td')\n    \n    if len(cells) ==3:\n        postcode.append(cells[0].find(text=True))\n        borough.append(cells[1].find(text=True))\n        neighborhood.append(cells[2].find(text=True))\n        \n        ",
            "execution_count": 44,
            "outputs": []
        },
        {
            "metadata": {},
            "cell_type": "code",
            "source": "df = pd.DataFrame({'Postcode': postcode,\n                       'Borough': borough,\n                       'Neighborhood': neighborhood})",
            "execution_count": 45,
            "outputs": []
        },
        {
            "metadata": {},
            "cell_type": "code",
            "source": "df.head()\n\n",
            "execution_count": 46,
            "outputs": [
                {
                    "output_type": "execute_result",
                    "execution_count": 46,
                    "data": {
                        "text/plain": "  Postcode            Borough                Neighborhood\n0     M1A\n      Not assigned\n               Not assigned\n\n1     M2A\n      Not assigned\n               Not assigned\n\n2     M3A\n        North York\n                  Parkwoods\n\n3     M4A\n        North York\n           Victoria Village\n\n4     M5A\n  Downtown Toronto\n  Regent Park, Harbourfront",
                        "text/html": "<div>\n<style scoped>\n    .dataframe tbody tr th:only-of-type {\n        vertical-align: middle;\n    }\n\n    .dataframe tbody tr th {\n        vertical-align: top;\n    }\n\n    .dataframe thead th {\n        text-align: right;\n    }\n</style>\n<table border=\"1\" class=\"dataframe\">\n  <thead>\n    <tr style=\"text-align: right;\">\n      <th></th>\n      <th>Postcode</th>\n      <th>Borough</th>\n      <th>Neighborhood</th>\n    </tr>\n  </thead>\n  <tbody>\n    <tr>\n      <th>0</th>\n      <td>M1A</td>\n      <td>Not assigned</td>\n      <td>Not assigned</td>\n    </tr>\n    <tr>\n      <th>1</th>\n      <td>M2A</td>\n      <td>Not assigned</td>\n      <td>Not assigned</td>\n    </tr>\n    <tr>\n      <th>2</th>\n      <td>M3A</td>\n      <td>North York</td>\n      <td>Parkwoods</td>\n    </tr>\n    <tr>\n      <th>3</th>\n      <td>M4A</td>\n      <td>North York</td>\n      <td>Victoria Village</td>\n    </tr>\n    <tr>\n      <th>4</th>\n      <td>M5A</td>\n      <td>Downtown Toronto</td>\n      <td>Regent Park, Harbourfront</td>\n    </tr>\n  </tbody>\n</table>\n</div>"
                    },
                    "metadata": {}
                }
            ]
        },
        {
            "metadata": {},
            "cell_type": "markdown",
            "source": "* Drop Non assigned values in 'Borough' column"
        },
        {
            "metadata": {},
            "cell_type": "code",
            "source": "df.drop(df[df.Borough.str.contains('Not assigned')].index,inplace =True)",
            "execution_count": 53,
            "outputs": []
        },
        {
            "metadata": {},
            "cell_type": "code",
            "source": "df = df.reset_index(drop=True)",
            "execution_count": 54,
            "outputs": []
        },
        {
            "metadata": {},
            "cell_type": "code",
            "source": "df.head()",
            "execution_count": 55,
            "outputs": [
                {
                    "output_type": "execute_result",
                    "execution_count": 55,
                    "data": {
                        "text/plain": "  Postcode            Borough                                  Neighborhood\n0     M3A\n        North York\n                                    Parkwoods\n\n1     M4A\n        North York\n                             Victoria Village\n\n2     M5A\n  Downtown Toronto\n                    Regent Park, Harbourfront\n\n3     M6A\n        North York\n             Lawrence Manor, Lawrence Heights\n\n4     M7A\n  Downtown Toronto\n  Queen's Park, Ontario Provincial Government",
                        "text/html": "<div>\n<style scoped>\n    .dataframe tbody tr th:only-of-type {\n        vertical-align: middle;\n    }\n\n    .dataframe tbody tr th {\n        vertical-align: top;\n    }\n\n    .dataframe thead th {\n        text-align: right;\n    }\n</style>\n<table border=\"1\" class=\"dataframe\">\n  <thead>\n    <tr style=\"text-align: right;\">\n      <th></th>\n      <th>Postcode</th>\n      <th>Borough</th>\n      <th>Neighborhood</th>\n    </tr>\n  </thead>\n  <tbody>\n    <tr>\n      <th>0</th>\n      <td>M3A</td>\n      <td>North York</td>\n      <td>Parkwoods</td>\n    </tr>\n    <tr>\n      <th>1</th>\n      <td>M4A</td>\n      <td>North York</td>\n      <td>Victoria Village</td>\n    </tr>\n    <tr>\n      <th>2</th>\n      <td>M5A</td>\n      <td>Downtown Toronto</td>\n      <td>Regent Park, Harbourfront</td>\n    </tr>\n    <tr>\n      <th>3</th>\n      <td>M6A</td>\n      <td>North York</td>\n      <td>Lawrence Manor, Lawrence Heights</td>\n    </tr>\n    <tr>\n      <th>4</th>\n      <td>M7A</td>\n      <td>Downtown Toronto</td>\n      <td>Queen's Park, Ontario Provincial Government</td>\n    </tr>\n  </tbody>\n</table>\n</div>"
                    },
                    "metadata": {}
                }
            ]
        },
        {
            "metadata": {},
            "cell_type": "markdown",
            "source": "* Grouping Neighborhood"
        },
        {
            "metadata": {
                "scrolled": false
            },
            "cell_type": "code",
            "source": "df.groupby(['Postcode','Borough'], as_index=False).agg(lambda x: \",\".join (x))",
            "execution_count": 59,
            "outputs": [
                {
                    "output_type": "execute_result",
                    "execution_count": 59,
                    "data": {
                        "text/plain": "    Postcode            Borough  \\\n0       M1B\n       Scarborough\n   \n1       M1C\n       Scarborough\n   \n2       M1E\n       Scarborough\n   \n3       M1G\n       Scarborough\n   \n4       M1H\n       Scarborough\n   \n5       M1J\n       Scarborough\n   \n6       M1K\n       Scarborough\n   \n7       M1L\n       Scarborough\n   \n8       M1M\n       Scarborough\n   \n9       M1N\n       Scarborough\n   \n10      M1P\n       Scarborough\n   \n11      M1R\n       Scarborough\n   \n12      M1S\n       Scarborough\n   \n13      M1T\n       Scarborough\n   \n14      M1V\n       Scarborough\n   \n15      M1W\n       Scarborough\n   \n16      M1X\n       Scarborough\n   \n17      M2H\n        North York\n   \n18      M2J\n        North York\n   \n19      M2K\n        North York\n   \n20      M2L\n        North York\n   \n21      M2M\n        North York\n   \n22      M2N\n        North York\n   \n23      M2P\n        North York\n   \n24      M2R\n        North York\n   \n25      M3A\n        North York\n   \n26      M3B\n        North York\n   \n27      M3C\n        North York\n   \n28      M3H\n        North York\n   \n29      M3J\n        North York\n   \n30      M3K\n        North York\n   \n31      M3L\n        North York\n   \n32      M3M\n        North York\n   \n33      M3N\n        North York\n   \n34      M4A\n        North York\n   \n35      M4B\n         East York\n   \n36      M4C\n         East York\n   \n37      M4E\n      East Toronto\n   \n38      M4G\n         East York\n   \n39      M4H\n         East York\n   \n40      M4J\n         East York\n   \n41      M4K\n      East Toronto\n   \n42      M4L\n      East Toronto\n   \n43      M4M\n      East Toronto\n   \n44      M4N\n   Central Toronto\n   \n45      M4P\n   Central Toronto\n   \n46      M4R\n   Central Toronto\n   \n47      M4S\n   Central Toronto\n   \n48      M4T\n   Central Toronto\n   \n49      M4V\n   Central Toronto\n   \n50      M4W\n  Downtown Toronto\n   \n51      M4X\n  Downtown Toronto\n   \n52      M4Y\n  Downtown Toronto\n   \n53      M5A\n  Downtown Toronto\n   \n54      M5B\n  Downtown Toronto\n   \n55      M5C\n  Downtown Toronto\n   \n56      M5E\n  Downtown Toronto\n   \n57      M5G\n  Downtown Toronto\n   \n58      M5H\n  Downtown Toronto\n   \n59      M5J\n  Downtown Toronto\n   \n60      M5K\n  Downtown Toronto\n   \n61      M5L\n  Downtown Toronto\n   \n62      M5M\n        North York\n   \n63      M5N\n   Central Toronto\n   \n64      M5P\n   Central Toronto\n   \n65      M5R\n   Central Toronto\n   \n66      M5S\n  Downtown Toronto\n   \n67      M5T\n  Downtown Toronto\n   \n68      M5V\n  Downtown Toronto\n   \n69      M5W\n  Downtown Toronto\n   \n70      M5X\n  Downtown Toronto\n   \n71      M6A\n        North York\n   \n72      M6B\n        North York\n   \n73      M6C\n              York\n   \n74      M6E\n              York\n   \n75      M6G\n  Downtown Toronto\n   \n76      M6H\n      West Toronto\n   \n77      M6J\n      West Toronto\n   \n78      M6K\n      West Toronto\n   \n79      M6L\n        North York\n   \n80      M6M\n              York\n   \n81      M6N\n              York\n   \n82      M6P\n      West Toronto\n   \n83      M6R\n      West Toronto\n   \n84      M6S\n      West Toronto\n   \n85      M7A\n  Downtown Toronto\n   \n86      M7R\n       Mississauga\n   \n87      M7Y\n      East Toronto\n   \n88      M8V\n         Etobicoke\n   \n89      M8W\n         Etobicoke\n   \n90      M8X\n         Etobicoke\n   \n91      M8Y\n         Etobicoke\n   \n92      M8Z\n         Etobicoke\n   \n93      M9A\n         Etobicoke\n   \n94      M9B\n         Etobicoke\n   \n95      M9C\n         Etobicoke\n   \n96      M9L\n        North York\n   \n97      M9M\n        North York\n   \n98      M9N\n              York\n   \n99      M9P\n         Etobicoke\n   \n100     M9R\n         Etobicoke\n   \n101     M9V\n         Etobicoke\n   \n102     M9W\n         Etobicoke\n   \n\n                                          Neighborhood  \n0                                     Malvern, Rouge\\n  \n1             Rouge Hill, Port Union, Highland Creek\\n  \n2                  Guildwood, Morningside, West Hill\\n  \n3                                             Woburn\\n  \n4                                          Cedarbrae\\n  \n5                                Scarborough Village\\n  \n6        Kennedy Park, Ionview, East Birchmount Park\\n  \n7                    Golden Mile, Clairlea, Oakridge\\n  \n8    Cliffside, Cliffcrest, Scarborough Village West\\n  \n9                        Birch Cliff, Cliffside West\\n  \n10   Dorset Park, Wexford Heights, Scarborough Town...  \n11                                 Wexford, Maryvale\\n  \n12                                         Agincourt\\n  \n13           Clarks Corners, Tam O'Shanter, Sullivan\\n  \n14   Milliken, Agincourt North, Steeles East, L'Amo...  \n15                     Steeles West, L'Amoreaux West\\n  \n16                                       Upper Rouge\\n  \n17                                 Hillcrest Village\\n  \n18                      Fairview, Henry Farm, Oriole\\n  \n19                                   Bayview Village\\n  \n20                          York Mills, Silver Hills\\n  \n21                           Willowdale, Newtonbrook\\n  \n22                       Willowdale, Willowdale East\\n  \n23                                   York Mills West\\n  \n24                       Willowdale, Willowdale West\\n  \n25                                         Parkwoods\\n  \n26                                         Don Mills\\n  \n27                                         Don Mills\\n  \n28   Bathurst Manor, Wilson Heights, Downsview North\\n  \n29                   Northwood Park, York University\\n  \n30                                         Downsview\\n  \n31                                         Downsview\\n  \n32                                         Downsview\\n  \n33                                         Downsview\\n  \n34                                  Victoria Village\\n  \n35                   Parkview Hill, Woodbine Gardens\\n  \n36                                  Woodbine Heights\\n  \n37                                       The Beaches\\n  \n38                                           Leaside\\n  \n39                                  Thorncliffe Park\\n  \n40     East Toronto, Broadview North (Old East York)\\n  \n41                      The Danforth West, Riverdale\\n  \n42                    India Bazaar, The Beaches West\\n  \n43                                   Studio District\\n  \n44                                     Lawrence Park\\n  \n45                                  Davisville North\\n  \n46                North Toronto West,  Lawrence Park\\n  \n47                                        Davisville\\n  \n48                       Moore Park, Summerhill East\\n  \n49   Summerhill West, Rathnelly, South Hill, Forest...  \n50                                          Rosedale\\n  \n51                       St. James Town, Cabbagetown\\n  \n52                              Church and Wellesley\\n  \n53                         Regent Park, Harbourfront\\n  \n54                          Garden District, Ryerson\\n  \n55                                    St. James Town\\n  \n56                                       Berczy Park\\n  \n57                                Central Bay Street\\n  \n58                          Richmond, Adelaide, King\\n  \n59   Harbourfront East, Union Station, Toronto Isla...  \n60          Toronto Dominion Centre, Design Exchange\\n  \n61                    Commerce Court, Victoria Hotel\\n  \n62                 Bedford Park, Lawrence Manor East\\n  \n63                                          Roselawn\\n  \n64   Forest Hill North & West, Forest Hill Road Park\\n  \n65               The Annex, North Midtown, Yorkville\\n  \n66                    University of Toronto, Harbord\\n  \n67         Kensington Market, Chinatown, Grange Park\\n  \n68   CN Tower, King and Spadina, Railway Lands, Har...  \n69                                    Stn A PO Boxes\\n  \n70            First Canadian Place, Underground city\\n  \n71                  Lawrence Manor, Lawrence Heights\\n  \n72                                         Glencairn\\n  \n73                                Humewood-Cedarvale\\n  \n74                               Caledonia-Fairbanks\\n  \n75                                          Christie\\n  \n76                      Dufferin, Dovercourt Village\\n  \n77                          Little Portugal, Trinity\\n  \n78      Brockton, Parkdale Village, Exhibition Place\\n  \n79          North Park, Maple Leaf Park, Upwood Park\\n  \n80   Del Ray, Mount Dennis, Keelsdale and Silvertho...  \n81                     Runnymede, The Junction North\\n  \n82                     High Park, The Junction South\\n  \n83                            Parkdale, Roncesvalles\\n  \n84                                Runnymede, Swansea\\n  \n85       Queen's Park, Ontario Provincial Government\\n  \n86             Canada Post Gateway Processing Centre\\n  \n87   Business reply mail Processing Centre, South C...  \n88      New Toronto, Mimico South, Humber Bay Shores\\n  \n89                            Alderwood, Long Branch\\n  \n90     The Kingsway, Montgomery Road, Old Mill North\\n  \n91   Old Mill South, King's Mill Park, Sunnylea, Hu...  \n92   Mimico NW, The Queensway West, South of Bloor,...  \n93           Islington Avenue, Humber Valley Village\\n  \n94   West Deane Park, Princess Gardens, Martin Grov...  \n95   Eringate, Bloordale Gardens, Old Burnhamthorpe...  \n96                                     Humber Summit\\n  \n97                                  Humberlea, Emery\\n  \n98                                            Weston\\n  \n99                                         Westmount\\n  \n100  Kingsview Village, St. Phillips, Martin Grove ...  \n101  South Steeles, Silverstone, Humbergate, Jamest...  \n102              Northwest, West Humber - Clairville\\n  ",
                        "text/html": "<div>\n<style scoped>\n    .dataframe tbody tr th:only-of-type {\n        vertical-align: middle;\n    }\n\n    .dataframe tbody tr th {\n        vertical-align: top;\n    }\n\n    .dataframe thead th {\n        text-align: right;\n    }\n</style>\n<table border=\"1\" class=\"dataframe\">\n  <thead>\n    <tr style=\"text-align: right;\">\n      <th></th>\n      <th>Postcode</th>\n      <th>Borough</th>\n      <th>Neighborhood</th>\n    </tr>\n  </thead>\n  <tbody>\n    <tr>\n      <th>0</th>\n      <td>M1B</td>\n      <td>Scarborough</td>\n      <td>Malvern, Rouge\\n</td>\n    </tr>\n    <tr>\n      <th>1</th>\n      <td>M1C</td>\n      <td>Scarborough</td>\n      <td>Rouge Hill, Port Union, Highland Creek\\n</td>\n    </tr>\n    <tr>\n      <th>2</th>\n      <td>M1E</td>\n      <td>Scarborough</td>\n      <td>Guildwood, Morningside, West Hill\\n</td>\n    </tr>\n    <tr>\n      <th>3</th>\n      <td>M1G</td>\n      <td>Scarborough</td>\n      <td>Woburn\\n</td>\n    </tr>\n    <tr>\n      <th>4</th>\n      <td>M1H</td>\n      <td>Scarborough</td>\n      <td>Cedarbrae\\n</td>\n    </tr>\n    <tr>\n      <th>5</th>\n      <td>M1J</td>\n      <td>Scarborough</td>\n      <td>Scarborough Village\\n</td>\n    </tr>\n    <tr>\n      <th>6</th>\n      <td>M1K</td>\n      <td>Scarborough</td>\n      <td>Kennedy Park, Ionview, East Birchmount Park\\n</td>\n    </tr>\n    <tr>\n      <th>7</th>\n      <td>M1L</td>\n      <td>Scarborough</td>\n      <td>Golden Mile, Clairlea, Oakridge\\n</td>\n    </tr>\n    <tr>\n      <th>8</th>\n      <td>M1M</td>\n      <td>Scarborough</td>\n      <td>Cliffside, Cliffcrest, Scarborough Village West\\n</td>\n    </tr>\n    <tr>\n      <th>9</th>\n      <td>M1N</td>\n      <td>Scarborough</td>\n      <td>Birch Cliff, Cliffside West\\n</td>\n    </tr>\n    <tr>\n      <th>10</th>\n      <td>M1P</td>\n      <td>Scarborough</td>\n      <td>Dorset Park, Wexford Heights, Scarborough Town...</td>\n    </tr>\n    <tr>\n      <th>11</th>\n      <td>M1R</td>\n      <td>Scarborough</td>\n      <td>Wexford, Maryvale\\n</td>\n    </tr>\n    <tr>\n      <th>12</th>\n      <td>M1S</td>\n      <td>Scarborough</td>\n      <td>Agincourt\\n</td>\n    </tr>\n    <tr>\n      <th>13</th>\n      <td>M1T</td>\n      <td>Scarborough</td>\n      <td>Clarks Corners, Tam O'Shanter, Sullivan\\n</td>\n    </tr>\n    <tr>\n      <th>14</th>\n      <td>M1V</td>\n      <td>Scarborough</td>\n      <td>Milliken, Agincourt North, Steeles East, L'Amo...</td>\n    </tr>\n    <tr>\n      <th>15</th>\n      <td>M1W</td>\n      <td>Scarborough</td>\n      <td>Steeles West, L'Amoreaux West\\n</td>\n    </tr>\n    <tr>\n      <th>16</th>\n      <td>M1X</td>\n      <td>Scarborough</td>\n      <td>Upper Rouge\\n</td>\n    </tr>\n    <tr>\n      <th>17</th>\n      <td>M2H</td>\n      <td>North York</td>\n      <td>Hillcrest Village\\n</td>\n    </tr>\n    <tr>\n      <th>18</th>\n      <td>M2J</td>\n      <td>North York</td>\n      <td>Fairview, Henry Farm, Oriole\\n</td>\n    </tr>\n    <tr>\n      <th>19</th>\n      <td>M2K</td>\n      <td>North York</td>\n      <td>Bayview Village\\n</td>\n    </tr>\n    <tr>\n      <th>20</th>\n      <td>M2L</td>\n      <td>North York</td>\n      <td>York Mills, Silver Hills\\n</td>\n    </tr>\n    <tr>\n      <th>21</th>\n      <td>M2M</td>\n      <td>North York</td>\n      <td>Willowdale, Newtonbrook\\n</td>\n    </tr>\n    <tr>\n      <th>22</th>\n      <td>M2N</td>\n      <td>North York</td>\n      <td>Willowdale, Willowdale East\\n</td>\n    </tr>\n    <tr>\n      <th>23</th>\n      <td>M2P</td>\n      <td>North York</td>\n      <td>York Mills West\\n</td>\n    </tr>\n    <tr>\n      <th>24</th>\n      <td>M2R</td>\n      <td>North York</td>\n      <td>Willowdale, Willowdale West\\n</td>\n    </tr>\n    <tr>\n      <th>25</th>\n      <td>M3A</td>\n      <td>North York</td>\n      <td>Parkwoods\\n</td>\n    </tr>\n    <tr>\n      <th>26</th>\n      <td>M3B</td>\n      <td>North York</td>\n      <td>Don Mills\\n</td>\n    </tr>\n    <tr>\n      <th>27</th>\n      <td>M3C</td>\n      <td>North York</td>\n      <td>Don Mills\\n</td>\n    </tr>\n    <tr>\n      <th>28</th>\n      <td>M3H</td>\n      <td>North York</td>\n      <td>Bathurst Manor, Wilson Heights, Downsview North\\n</td>\n    </tr>\n    <tr>\n      <th>29</th>\n      <td>M3J</td>\n      <td>North York</td>\n      <td>Northwood Park, York University\\n</td>\n    </tr>\n    <tr>\n      <th>30</th>\n      <td>M3K</td>\n      <td>North York</td>\n      <td>Downsview\\n</td>\n    </tr>\n    <tr>\n      <th>31</th>\n      <td>M3L</td>\n      <td>North York</td>\n      <td>Downsview\\n</td>\n    </tr>\n    <tr>\n      <th>32</th>\n      <td>M3M</td>\n      <td>North York</td>\n      <td>Downsview\\n</td>\n    </tr>\n    <tr>\n      <th>33</th>\n      <td>M3N</td>\n      <td>North York</td>\n      <td>Downsview\\n</td>\n    </tr>\n    <tr>\n      <th>34</th>\n      <td>M4A</td>\n      <td>North York</td>\n      <td>Victoria Village\\n</td>\n    </tr>\n    <tr>\n      <th>35</th>\n      <td>M4B</td>\n      <td>East York</td>\n      <td>Parkview Hill, Woodbine Gardens\\n</td>\n    </tr>\n    <tr>\n      <th>36</th>\n      <td>M4C</td>\n      <td>East York</td>\n      <td>Woodbine Heights\\n</td>\n    </tr>\n    <tr>\n      <th>37</th>\n      <td>M4E</td>\n      <td>East Toronto</td>\n      <td>The Beaches\\n</td>\n    </tr>\n    <tr>\n      <th>38</th>\n      <td>M4G</td>\n      <td>East York</td>\n      <td>Leaside\\n</td>\n    </tr>\n    <tr>\n      <th>39</th>\n      <td>M4H</td>\n      <td>East York</td>\n      <td>Thorncliffe Park\\n</td>\n    </tr>\n    <tr>\n      <th>40</th>\n      <td>M4J</td>\n      <td>East York</td>\n      <td>East Toronto, Broadview North (Old East York)\\n</td>\n    </tr>\n    <tr>\n      <th>41</th>\n      <td>M4K</td>\n      <td>East Toronto</td>\n      <td>The Danforth West, Riverdale\\n</td>\n    </tr>\n    <tr>\n      <th>42</th>\n      <td>M4L</td>\n      <td>East Toronto</td>\n      <td>India Bazaar, The Beaches West\\n</td>\n    </tr>\n    <tr>\n      <th>43</th>\n      <td>M4M</td>\n      <td>East Toronto</td>\n      <td>Studio District\\n</td>\n    </tr>\n    <tr>\n      <th>44</th>\n      <td>M4N</td>\n      <td>Central Toronto</td>\n      <td>Lawrence Park\\n</td>\n    </tr>\n    <tr>\n      <th>45</th>\n      <td>M4P</td>\n      <td>Central Toronto</td>\n      <td>Davisville North\\n</td>\n    </tr>\n    <tr>\n      <th>46</th>\n      <td>M4R</td>\n      <td>Central Toronto</td>\n      <td>North Toronto West,  Lawrence Park\\n</td>\n    </tr>\n    <tr>\n      <th>47</th>\n      <td>M4S</td>\n      <td>Central Toronto</td>\n      <td>Davisville\\n</td>\n    </tr>\n    <tr>\n      <th>48</th>\n      <td>M4T</td>\n      <td>Central Toronto</td>\n      <td>Moore Park, Summerhill East\\n</td>\n    </tr>\n    <tr>\n      <th>49</th>\n      <td>M4V</td>\n      <td>Central Toronto</td>\n      <td>Summerhill West, Rathnelly, South Hill, Forest...</td>\n    </tr>\n    <tr>\n      <th>50</th>\n      <td>M4W</td>\n      <td>Downtown Toronto</td>\n      <td>Rosedale\\n</td>\n    </tr>\n    <tr>\n      <th>51</th>\n      <td>M4X</td>\n      <td>Downtown Toronto</td>\n      <td>St. James Town, Cabbagetown\\n</td>\n    </tr>\n    <tr>\n      <th>52</th>\n      <td>M4Y</td>\n      <td>Downtown Toronto</td>\n      <td>Church and Wellesley\\n</td>\n    </tr>\n    <tr>\n      <th>53</th>\n      <td>M5A</td>\n      <td>Downtown Toronto</td>\n      <td>Regent Park, Harbourfront\\n</td>\n    </tr>\n    <tr>\n      <th>54</th>\n      <td>M5B</td>\n      <td>Downtown Toronto</td>\n      <td>Garden District, Ryerson\\n</td>\n    </tr>\n    <tr>\n      <th>55</th>\n      <td>M5C</td>\n      <td>Downtown Toronto</td>\n      <td>St. James Town\\n</td>\n    </tr>\n    <tr>\n      <th>56</th>\n      <td>M5E</td>\n      <td>Downtown Toronto</td>\n      <td>Berczy Park\\n</td>\n    </tr>\n    <tr>\n      <th>57</th>\n      <td>M5G</td>\n      <td>Downtown Toronto</td>\n      <td>Central Bay Street\\n</td>\n    </tr>\n    <tr>\n      <th>58</th>\n      <td>M5H</td>\n      <td>Downtown Toronto</td>\n      <td>Richmond, Adelaide, King\\n</td>\n    </tr>\n    <tr>\n      <th>59</th>\n      <td>M5J</td>\n      <td>Downtown Toronto</td>\n      <td>Harbourfront East, Union Station, Toronto Isla...</td>\n    </tr>\n    <tr>\n      <th>60</th>\n      <td>M5K</td>\n      <td>Downtown Toronto</td>\n      <td>Toronto Dominion Centre, Design Exchange\\n</td>\n    </tr>\n    <tr>\n      <th>61</th>\n      <td>M5L</td>\n      <td>Downtown Toronto</td>\n      <td>Commerce Court, Victoria Hotel\\n</td>\n    </tr>\n    <tr>\n      <th>62</th>\n      <td>M5M</td>\n      <td>North York</td>\n      <td>Bedford Park, Lawrence Manor East\\n</td>\n    </tr>\n    <tr>\n      <th>63</th>\n      <td>M5N</td>\n      <td>Central Toronto</td>\n      <td>Roselawn\\n</td>\n    </tr>\n    <tr>\n      <th>64</th>\n      <td>M5P</td>\n      <td>Central Toronto</td>\n      <td>Forest Hill North &amp; West, Forest Hill Road Park\\n</td>\n    </tr>\n    <tr>\n      <th>65</th>\n      <td>M5R</td>\n      <td>Central Toronto</td>\n      <td>The Annex, North Midtown, Yorkville\\n</td>\n    </tr>\n    <tr>\n      <th>66</th>\n      <td>M5S</td>\n      <td>Downtown Toronto</td>\n      <td>University of Toronto, Harbord\\n</td>\n    </tr>\n    <tr>\n      <th>67</th>\n      <td>M5T</td>\n      <td>Downtown Toronto</td>\n      <td>Kensington Market, Chinatown, Grange Park\\n</td>\n    </tr>\n    <tr>\n      <th>68</th>\n      <td>M5V</td>\n      <td>Downtown Toronto</td>\n      <td>CN Tower, King and Spadina, Railway Lands, Har...</td>\n    </tr>\n    <tr>\n      <th>69</th>\n      <td>M5W</td>\n      <td>Downtown Toronto</td>\n      <td>Stn A PO Boxes\\n</td>\n    </tr>\n    <tr>\n      <th>70</th>\n      <td>M5X</td>\n      <td>Downtown Toronto</td>\n      <td>First Canadian Place, Underground city\\n</td>\n    </tr>\n    <tr>\n      <th>71</th>\n      <td>M6A</td>\n      <td>North York</td>\n      <td>Lawrence Manor, Lawrence Heights\\n</td>\n    </tr>\n    <tr>\n      <th>72</th>\n      <td>M6B</td>\n      <td>North York</td>\n      <td>Glencairn\\n</td>\n    </tr>\n    <tr>\n      <th>73</th>\n      <td>M6C</td>\n      <td>York</td>\n      <td>Humewood-Cedarvale\\n</td>\n    </tr>\n    <tr>\n      <th>74</th>\n      <td>M6E</td>\n      <td>York</td>\n      <td>Caledonia-Fairbanks\\n</td>\n    </tr>\n    <tr>\n      <th>75</th>\n      <td>M6G</td>\n      <td>Downtown Toronto</td>\n      <td>Christie\\n</td>\n    </tr>\n    <tr>\n      <th>76</th>\n      <td>M6H</td>\n      <td>West Toronto</td>\n      <td>Dufferin, Dovercourt Village\\n</td>\n    </tr>\n    <tr>\n      <th>77</th>\n      <td>M6J</td>\n      <td>West Toronto</td>\n      <td>Little Portugal, Trinity\\n</td>\n    </tr>\n    <tr>\n      <th>78</th>\n      <td>M6K</td>\n      <td>West Toronto</td>\n      <td>Brockton, Parkdale Village, Exhibition Place\\n</td>\n    </tr>\n    <tr>\n      <th>79</th>\n      <td>M6L</td>\n      <td>North York</td>\n      <td>North Park, Maple Leaf Park, Upwood Park\\n</td>\n    </tr>\n    <tr>\n      <th>80</th>\n      <td>M6M</td>\n      <td>York</td>\n      <td>Del Ray, Mount Dennis, Keelsdale and Silvertho...</td>\n    </tr>\n    <tr>\n      <th>81</th>\n      <td>M6N</td>\n      <td>York</td>\n      <td>Runnymede, The Junction North\\n</td>\n    </tr>\n    <tr>\n      <th>82</th>\n      <td>M6P</td>\n      <td>West Toronto</td>\n      <td>High Park, The Junction South\\n</td>\n    </tr>\n    <tr>\n      <th>83</th>\n      <td>M6R</td>\n      <td>West Toronto</td>\n      <td>Parkdale, Roncesvalles\\n</td>\n    </tr>\n    <tr>\n      <th>84</th>\n      <td>M6S</td>\n      <td>West Toronto</td>\n      <td>Runnymede, Swansea\\n</td>\n    </tr>\n    <tr>\n      <th>85</th>\n      <td>M7A</td>\n      <td>Downtown Toronto</td>\n      <td>Queen's Park, Ontario Provincial Government\\n</td>\n    </tr>\n    <tr>\n      <th>86</th>\n      <td>M7R</td>\n      <td>Mississauga</td>\n      <td>Canada Post Gateway Processing Centre\\n</td>\n    </tr>\n    <tr>\n      <th>87</th>\n      <td>M7Y</td>\n      <td>East Toronto</td>\n      <td>Business reply mail Processing Centre, South C...</td>\n    </tr>\n    <tr>\n      <th>88</th>\n      <td>M8V</td>\n      <td>Etobicoke</td>\n      <td>New Toronto, Mimico South, Humber Bay Shores\\n</td>\n    </tr>\n    <tr>\n      <th>89</th>\n      <td>M8W</td>\n      <td>Etobicoke</td>\n      <td>Alderwood, Long Branch\\n</td>\n    </tr>\n    <tr>\n      <th>90</th>\n      <td>M8X</td>\n      <td>Etobicoke</td>\n      <td>The Kingsway, Montgomery Road, Old Mill North\\n</td>\n    </tr>\n    <tr>\n      <th>91</th>\n      <td>M8Y</td>\n      <td>Etobicoke</td>\n      <td>Old Mill South, King's Mill Park, Sunnylea, Hu...</td>\n    </tr>\n    <tr>\n      <th>92</th>\n      <td>M8Z</td>\n      <td>Etobicoke</td>\n      <td>Mimico NW, The Queensway West, South of Bloor,...</td>\n    </tr>\n    <tr>\n      <th>93</th>\n      <td>M9A</td>\n      <td>Etobicoke</td>\n      <td>Islington Avenue, Humber Valley Village\\n</td>\n    </tr>\n    <tr>\n      <th>94</th>\n      <td>M9B</td>\n      <td>Etobicoke</td>\n      <td>West Deane Park, Princess Gardens, Martin Grov...</td>\n    </tr>\n    <tr>\n      <th>95</th>\n      <td>M9C</td>\n      <td>Etobicoke</td>\n      <td>Eringate, Bloordale Gardens, Old Burnhamthorpe...</td>\n    </tr>\n    <tr>\n      <th>96</th>\n      <td>M9L</td>\n      <td>North York</td>\n      <td>Humber Summit\\n</td>\n    </tr>\n    <tr>\n      <th>97</th>\n      <td>M9M</td>\n      <td>North York</td>\n      <td>Humberlea, Emery\\n</td>\n    </tr>\n    <tr>\n      <th>98</th>\n      <td>M9N</td>\n      <td>York</td>\n      <td>Weston\\n</td>\n    </tr>\n    <tr>\n      <th>99</th>\n      <td>M9P</td>\n      <td>Etobicoke</td>\n      <td>Westmount\\n</td>\n    </tr>\n    <tr>\n      <th>100</th>\n      <td>M9R</td>\n      <td>Etobicoke</td>\n      <td>Kingsview Village, St. Phillips, Martin Grove ...</td>\n    </tr>\n    <tr>\n      <th>101</th>\n      <td>M9V</td>\n      <td>Etobicoke</td>\n      <td>South Steeles, Silverstone, Humbergate, Jamest...</td>\n    </tr>\n    <tr>\n      <th>102</th>\n      <td>M9W</td>\n      <td>Etobicoke</td>\n      <td>Northwest, West Humber - Clairville\\n</td>\n    </tr>\n  </tbody>\n</table>\n</div>"
                    },
                    "metadata": {}
                }
            ]
        },
        {
            "metadata": {},
            "cell_type": "markdown",
            "source": "* Checking Non assigned value for Neighborhood"
        },
        {
            "metadata": {},
            "cell_type": "code",
            "source": "df.Neighborhood.str.contains('Not assigned')",
            "execution_count": 37,
            "outputs": [
                {
                    "output_type": "execute_result",
                    "execution_count": 37,
                    "data": {
                        "text/plain": "0      False\n1      False\n2      False\n3      False\n4      False\n5      False\n6      False\n7      False\n8      False\n9      False\n10     False\n11     False\n12     False\n13     False\n14     False\n15     False\n16     False\n17     False\n18     False\n19     False\n20     False\n21     False\n22     False\n23     False\n24     False\n25     False\n26     False\n27     False\n28     False\n29     False\n30     False\n31     False\n32     False\n33     False\n34     False\n35     False\n36     False\n37     False\n38     False\n39     False\n40     False\n41     False\n42     False\n43     False\n44     False\n45     False\n46     False\n47     False\n48     False\n49     False\n50     False\n51     False\n52     False\n53     False\n54     False\n55     False\n56     False\n57     False\n58     False\n59     False\n60     False\n61     False\n62     False\n63     False\n64     False\n65     False\n66     False\n67     False\n68     False\n69     False\n70     False\n71     False\n72     False\n73     False\n74     False\n75     False\n76     False\n77     False\n78     False\n79     False\n80     False\n81     False\n82     False\n83     False\n84     False\n85     False\n86     False\n87     False\n88     False\n89     False\n90     False\n91     False\n92     False\n93     False\n94     False\n95     False\n96     False\n97     False\n98     False\n99     False\n100    False\n101    False\n102    False\nName: Neighborhood, dtype: bool"
                    },
                    "metadata": {}
                }
            ]
        },
        {
            "metadata": {},
            "cell_type": "markdown",
            "source": "* use the .shape method to print the number of rows of your dataframe"
        },
        {
            "metadata": {},
            "cell_type": "code",
            "source": "df.shape",
            "execution_count": 40,
            "outputs": [
                {
                    "output_type": "execute_result",
                    "execution_count": 40,
                    "data": {
                        "text/plain": "(103, 3)"
                    },
                    "metadata": {}
                }
            ]
        },
        {
            "metadata": {},
            "cell_type": "markdown",
            "source": "# Segmenting and Clustering Neighborhoods in Toronto part II"
        },
        {
            "metadata": {},
            "cell_type": "markdown",
            "source": "* geting the latitude and the longitude coordinates of each neighborhood"
        },
        {
            "metadata": {},
            "cell_type": "code",
            "source": "url = 'http://cocl.us/Geospatial_data'",
            "execution_count": 63,
            "outputs": []
        },
        {
            "metadata": {},
            "cell_type": "code",
            "source": "gecod = pd.read_csv(url)",
            "execution_count": 66,
            "outputs": []
        },
        {
            "metadata": {},
            "cell_type": "code",
            "source": "gecod.head()",
            "execution_count": 67,
            "outputs": [
                {
                    "output_type": "execute_result",
                    "execution_count": 67,
                    "data": {
                        "text/plain": "  Postal Code   Latitude  Longitude\n0         M1B  43.806686 -79.194353\n1         M1C  43.784535 -79.160497\n2         M1E  43.763573 -79.188711\n3         M1G  43.770992 -79.216917\n4         M1H  43.773136 -79.239476",
                        "text/html": "<div>\n<style scoped>\n    .dataframe tbody tr th:only-of-type {\n        vertical-align: middle;\n    }\n\n    .dataframe tbody tr th {\n        vertical-align: top;\n    }\n\n    .dataframe thead th {\n        text-align: right;\n    }\n</style>\n<table border=\"1\" class=\"dataframe\">\n  <thead>\n    <tr style=\"text-align: right;\">\n      <th></th>\n      <th>Postal Code</th>\n      <th>Latitude</th>\n      <th>Longitude</th>\n    </tr>\n  </thead>\n  <tbody>\n    <tr>\n      <th>0</th>\n      <td>M1B</td>\n      <td>43.806686</td>\n      <td>-79.194353</td>\n    </tr>\n    <tr>\n      <th>1</th>\n      <td>M1C</td>\n      <td>43.784535</td>\n      <td>-79.160497</td>\n    </tr>\n    <tr>\n      <th>2</th>\n      <td>M1E</td>\n      <td>43.763573</td>\n      <td>-79.188711</td>\n    </tr>\n    <tr>\n      <th>3</th>\n      <td>M1G</td>\n      <td>43.770992</td>\n      <td>-79.216917</td>\n    </tr>\n    <tr>\n      <th>4</th>\n      <td>M1H</td>\n      <td>43.773136</td>\n      <td>-79.239476</td>\n    </tr>\n  </tbody>\n</table>\n</div>"
                    },
                    "metadata": {}
                }
            ]
        },
        {
            "metadata": {},
            "cell_type": "markdown",
            "source": "* useing the Geocoder package or the csv file to create the following dataframe"
        },
        {
            "metadata": {},
            "cell_type": "code",
            "source": "gecod.rename(columns={'Postal Code': 'Postcode'}, inplace=True)",
            "execution_count": 77,
            "outputs": []
        },
        {
            "metadata": {},
            "cell_type": "code",
            "source": "gecod.head()",
            "execution_count": 79,
            "outputs": [
                {
                    "output_type": "execute_result",
                    "execution_count": 79,
                    "data": {
                        "text/plain": "  Postcode   Latitude  Longitude\n0      M1B  43.806686 -79.194353\n1      M1C  43.784535 -79.160497\n2      M1E  43.763573 -79.188711\n3      M1G  43.770992 -79.216917\n4      M1H  43.773136 -79.239476",
                        "text/html": "<div>\n<style scoped>\n    .dataframe tbody tr th:only-of-type {\n        vertical-align: middle;\n    }\n\n    .dataframe tbody tr th {\n        vertical-align: top;\n    }\n\n    .dataframe thead th {\n        text-align: right;\n    }\n</style>\n<table border=\"1\" class=\"dataframe\">\n  <thead>\n    <tr style=\"text-align: right;\">\n      <th></th>\n      <th>Postcode</th>\n      <th>Latitude</th>\n      <th>Longitude</th>\n    </tr>\n  </thead>\n  <tbody>\n    <tr>\n      <th>0</th>\n      <td>M1B</td>\n      <td>43.806686</td>\n      <td>-79.194353</td>\n    </tr>\n    <tr>\n      <th>1</th>\n      <td>M1C</td>\n      <td>43.784535</td>\n      <td>-79.160497</td>\n    </tr>\n    <tr>\n      <th>2</th>\n      <td>M1E</td>\n      <td>43.763573</td>\n      <td>-79.188711</td>\n    </tr>\n    <tr>\n      <th>3</th>\n      <td>M1G</td>\n      <td>43.770992</td>\n      <td>-79.216917</td>\n    </tr>\n    <tr>\n      <th>4</th>\n      <td>M1H</td>\n      <td>43.773136</td>\n      <td>-79.239476</td>\n    </tr>\n  </tbody>\n</table>\n</div>"
                    },
                    "metadata": {}
                }
            ]
        },
        {
            "metadata": {},
            "cell_type": "code",
            "source": "Bor_gecod = pd.merge(df, gecod, on = 'Postcode', how = 'inner')",
            "execution_count": 82,
            "outputs": []
        },
        {
            "metadata": {},
            "cell_type": "code",
            "source": "Bor_gecod.head()",
            "execution_count": 83,
            "outputs": [
                {
                    "output_type": "execute_result",
                    "execution_count": 83,
                    "data": {
                        "text/plain": "  Postcode            Borough                                  Neighborhood  \\\n0      M3A        North York\n                                    Parkwoods\n   \n1      M4A        North York\n                             Victoria Village\n   \n2      M5A  Downtown Toronto\n                    Regent Park, Harbourfront\n   \n3      M6A        North York\n             Lawrence Manor, Lawrence Heights\n   \n4      M7A  Downtown Toronto\n  Queen's Park, Ontario Provincial Government\n   \n\n    Latitude  Longitude  \n0  43.753259 -79.329656  \n1  43.725882 -79.315572  \n2  43.654260 -79.360636  \n3  43.718518 -79.464763  \n4  43.662301 -79.389494  ",
                        "text/html": "<div>\n<style scoped>\n    .dataframe tbody tr th:only-of-type {\n        vertical-align: middle;\n    }\n\n    .dataframe tbody tr th {\n        vertical-align: top;\n    }\n\n    .dataframe thead th {\n        text-align: right;\n    }\n</style>\n<table border=\"1\" class=\"dataframe\">\n  <thead>\n    <tr style=\"text-align: right;\">\n      <th></th>\n      <th>Postcode</th>\n      <th>Borough</th>\n      <th>Neighborhood</th>\n      <th>Latitude</th>\n      <th>Longitude</th>\n    </tr>\n  </thead>\n  <tbody>\n    <tr>\n      <th>0</th>\n      <td>M3A</td>\n      <td>North York</td>\n      <td>Parkwoods</td>\n      <td>43.753259</td>\n      <td>-79.329656</td>\n    </tr>\n    <tr>\n      <th>1</th>\n      <td>M4A</td>\n      <td>North York</td>\n      <td>Victoria Village</td>\n      <td>43.725882</td>\n      <td>-79.315572</td>\n    </tr>\n    <tr>\n      <th>2</th>\n      <td>M5A</td>\n      <td>Downtown Toronto</td>\n      <td>Regent Park, Harbourfront</td>\n      <td>43.654260</td>\n      <td>-79.360636</td>\n    </tr>\n    <tr>\n      <th>3</th>\n      <td>M6A</td>\n      <td>North York</td>\n      <td>Lawrence Manor, Lawrence Heights</td>\n      <td>43.718518</td>\n      <td>-79.464763</td>\n    </tr>\n    <tr>\n      <th>4</th>\n      <td>M7A</td>\n      <td>Downtown Toronto</td>\n      <td>Queen's Park, Ontario Provincial Government</td>\n      <td>43.662301</td>\n      <td>-79.389494</td>\n    </tr>\n  </tbody>\n</table>\n</div>"
                    },
                    "metadata": {}
                }
            ]
        }
    ],
    "metadata": {
        "kernelspec": {
            "name": "python3",
            "display_name": "Python 3.6",
            "language": "python"
        },
        "language_info": {
            "name": "python",
            "version": "3.6.9",
            "mimetype": "text/x-python",
            "codemirror_mode": {
                "name": "ipython",
                "version": 3
            },
            "pygments_lexer": "ipython3",
            "nbconvert_exporter": "python",
            "file_extension": ".py"
        }
    },
    "nbformat": 4,
    "nbformat_minor": 1
}